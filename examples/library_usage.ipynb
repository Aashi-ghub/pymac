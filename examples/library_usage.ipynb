{
 "cells": [
  {
   "cell_type": "markdown",
   "id": "c4475761-1e1c-4d10-95be-982e0241ab9e",
   "metadata": {},
   "source": [
    "# py2mac library usage example"
   ]
  },
  {
   "cell_type": "code",
   "execution_count": null,
   "id": "initial_id",
   "metadata": {},
   "outputs": [],
   "source": [
    "from py2mac.utils import check_access\n",
    "from py2mac.application import get_running_applications\n",
    "from py2mac.json_utils import json_serializable\n",
    "from py2mac.data_extraction import clean_ui_tree, flatten_ui_tree\n",
    "import json\n",
    "\n",
    "import ipywidgets\n",
    "from IPython.display import display"
   ]
  },
  {
   "cell_type": "code",
   "execution_count": null,
   "id": "bc0e8def-4c1d-4c58-bc15-96c5abf39ac4",
   "metadata": {},
   "outputs": [],
   "source": [
    "# check_access verifies if the library can access macos accessibility interface\n",
    "check_access()"
   ]
  },
  {
   "cell_type": "markdown",
   "id": "da22c1a7-fedc-4c7b-a095-a8de224390f8",
   "metadata": {},
   "source": [
    "### Selecting application"
   ]
  },
  {
   "cell_type": "code",
   "execution_count": null,
   "id": "766835aa-d67b-4372-a9ae-6847f44218e2",
   "metadata": {},
   "outputs": [],
   "source": [
    "# Get all currently running applications\n",
    "applications = get_running_applications()\n",
    "\n",
    "# Show app selector\n",
    "app_widget = ipywidgets.Dropdown(\n",
    "    options=list(sorted(applications, key=lambda app: app.localized_name)),\n",
    "    description='Selected application:',\n",
    "    disabled=False,\n",
    ")\n",
    "display(app_widget)"
   ]
  },
  {
   "cell_type": "code",
   "execution_count": null,
   "id": "c35443f5-6184-45fd-a2c2-0dee80adfa5f",
   "metadata": {},
   "outputs": [],
   "source": [
    "app = app_widget.value\n",
    "print(f\"Selected app: {app}\")"
   ]
  },
  {
   "cell_type": "markdown",
   "id": "81c8ef3e-4bad-452c-9431-45fc7df31cfd",
   "metadata": {},
   "source": [
    "### Retrieving UI status"
   ]
  },
  {
   "cell_type": "code",
   "execution_count": null,
   "id": "54f7eb85-2a19-4fc1-b252-671142ec42e9",
   "metadata": {},
   "outputs": [],
   "source": [
    "# (optional) provide list of included attributes and actions\n",
    "# will include all if None (slows down the processing)\n",
    "\n",
    "# included_attributes=['AXTitle','AXRole','AXValue','AXDescription','AXPlaceholderValue','AXSelected','AXSubrole','AXRoleDescription']\n",
    "# included_actions=['AXPress']\n",
    "included_attributes = None\n",
    "included_actions = None\n",
    "\n",
    "component_tree = app.root_ui_element.asdict(\n",
    "    included_attributes=included_attributes, included_actions=included_actions,\n",
    "    include_empty_attributes=True\n",
    ")"
   ]
  },
  {
   "cell_type": "code",
   "execution_count": null,
   "id": "7e927a1b-7cf8-4446-bc63-4fa76359f7a2",
   "metadata": {
    "scrolled": true
   },
   "outputs": [],
   "source": [
    "component_tree"
   ]
  },
  {
   "cell_type": "code",
   "execution_count": null,
   "id": "66d8de46-8332-4515-825c-45f4c5ef9590",
   "metadata": {
    "scrolled": true
   },
   "outputs": [],
   "source": [
    "cleaned_component_tree = clean_ui_tree(component_tree)"
   ]
  },
  {
   "cell_type": "code",
   "execution_count": null,
   "id": "a558ad6d-e2d1-4bb9-8741-9dade42370e8",
   "metadata": {
    "scrolled": true
   },
   "outputs": [],
   "source": [
    "cleaned_component_tree"
   ]
  },
  {
   "cell_type": "code",
   "execution_count": null,
   "id": "b05e2964-1ffa-4aac-94b7-e832a6c000a1",
   "metadata": {
    "scrolled": true
   },
   "outputs": [],
   "source": [
    "flat_cleaned_component_tree = flatten_ui_tree(cleaned_component_tree)"
   ]
  },
  {
   "cell_type": "code",
   "execution_count": null,
   "id": "e84c1fb0-8803-4121-ac58-78c54c9d49b1",
   "metadata": {
    "scrolled": true
   },
   "outputs": [],
   "source": [
    "flat_cleaned_component_tree"
   ]
  },
  {
   "cell_type": "code",
   "execution_count": null,
   "id": "4bd28195-b041-42df-86ec-06f9aa045552",
   "metadata": {
    "scrolled": true
   },
   "outputs": [],
   "source": [
    "# use json_serializable to dump \n",
    "json.dumps(json_serializable(flat_cleaned_component_tree))"
   ]
  },
  {
   "cell_type": "markdown",
   "id": "7de4297b-28f3-445b-bbcc-73f72464dad9",
   "metadata": {},
   "source": [
    "## UI Interaction Example\n",
    "\n",
    "Py2Mac can interact with UI components by:\n",
    "* Triggering actions\n",
    "* Setting attributes"
   ]
  },
  {
   "cell_type": "markdown",
   "id": "c6272b0d-1eb4-495f-a006-dd522d499365",
   "metadata": {},
   "source": [
    "### Select UI component"
   ]
  },
  {
   "cell_type": "code",
   "execution_count": null,
   "id": "ee3fc749-a75a-4130-bffe-de27ac1b873e",
   "metadata": {},
   "outputs": [],
   "source": [
    "# Show UI element selector\n",
    "ui_component_widget = ipywidgets.Dropdown(\n",
    "    options=sorted(flat_cleaned_component_tree, key=lambda el: el.get(\"id\", \"\")),\n",
    "    description='Selected component:',\n",
    "    disabled=False,\n",
    ")\n",
    "display(ui_component_widget)"
   ]
  },
  {
   "cell_type": "code",
   "execution_count": null,
   "id": "29b69527-519a-4d19-bcdc-33e5364366ff",
   "metadata": {},
   "outputs": [],
   "source": [
    "ui_component_dict = ui_component_widget.value\n",
    "ui_component_dict"
   ]
  },
  {
   "cell_type": "code",
   "execution_count": null,
   "id": "090bd63e-3f9c-4b9b-9bc9-76cea3248b15",
   "metadata": {},
   "outputs": [],
   "source": [
    "ui_element = app.get_ui_element(ui_component_dict['id'])"
   ]
  },
  {
   "cell_type": "markdown",
   "id": "e2bb4256-2cb1-4719-9b09-43a5e99b3f2f",
   "metadata": {},
   "source": [
    "### Trigger action"
   ]
  },
  {
   "cell_type": "code",
   "execution_count": null,
   "id": "c08e7528-d124-494e-a81b-af2afd46422c",
   "metadata": {},
   "outputs": [],
   "source": [
    "# Show UI action selector\n",
    "ui_action_widget = ipywidgets.Dropdown(\n",
    "    options=ui_component_dict['actions'],\n",
    "    description='Selected action:',\n",
    "    disabled=False,\n",
    ")\n",
    "display(ui_action_widget)"
   ]
  },
  {
   "cell_type": "code",
   "execution_count": null,
   "id": "f867a722-b375-4eb4-9676-1ecf44145a3d",
   "metadata": {},
   "outputs": [],
   "source": [
    "# Call selected UI action\n",
    "ui_action = getattr(ui_element, ui_action_widget.value)\n",
    "ui_action()\n",
    "\n",
    "# We use getattr here to select action dynamically, but it can be called directly as e.g. ui_element.AXPress()"
   ]
  },
  {
   "cell_type": "markdown",
   "id": "0a5c141b-95c5-4fe8-a150-4d1b972d2ca6",
   "metadata": {},
   "source": [
    "### List attributes"
   ]
  },
  {
   "cell_type": "code",
   "execution_count": null,
   "id": "65460438-a5ec-4f1b-8409-f10a5dd47f2f",
   "metadata": {},
   "outputs": [],
   "source": [
    "ui_element.attributes"
   ]
  },
  {
   "cell_type": "code",
   "execution_count": null,
   "id": "634631d7-99f1-4aff-a744-6e4b93258cbe",
   "metadata": {},
   "outputs": [],
   "source": [
    "ui_element.settable_attributes"
   ]
  },
  {
   "cell_type": "markdown",
   "id": "6bc4f5f6-08c7-4393-a5a8-8b8293320e56",
   "metadata": {},
   "source": [
    "### Set attributes"
   ]
  },
  {
   "cell_type": "code",
   "execution_count": null,
   "id": "7be0d640-421c-4063-a4a6-66066d67c56d",
   "metadata": {},
   "outputs": [],
   "source": [
    "# Show UI widget attribute selector\n",
    "ui_attr_widget = ipywidgets.Dropdown(\n",
    "    options=ui_element.settable_attributes,\n",
    "    description='Selected attribute:',\n",
    "    disabled=False,\n",
    ")\n",
    "display(ui_attr_widget)"
   ]
  },
  {
   "cell_type": "code",
   "execution_count": null,
   "id": "092ad9f6-aca0-4c46-9d6e-6c214abea614",
   "metadata": {},
   "outputs": [],
   "source": [
    "ui_attr = ui_attr_widget.value\n",
    "# Show UI widget attribute value input\n",
    "ui_attr_value_widget = ipywidgets.Text(\n",
    "    value=getattr(ui_element, ui_attr),\n",
    "    description='Attribute value:',\n",
    "    disabled=False,\n",
    ")\n",
    "display(ui_attr_value_widget)"
   ]
  },
  {
   "cell_type": "code",
   "execution_count": null,
   "id": "6ac0cb7d-af2e-42cf-81d3-698537c553be",
   "metadata": {},
   "outputs": [],
   "source": [
    "# Set attribute value\n",
    "setattr(ui_element, ui_attr, ui_attr_value_widget.value)"
   ]
  }
 ],
 "metadata": {
  "kernelspec": {
   "display_name": "py2mac-MG79-c6i-py3.12",
   "language": "python",
   "name": "py2mac-mg79-c6i-py3.12"
  },
  "language_info": {
   "codemirror_mode": {
    "name": "ipython",
    "version": 3
   },
   "file_extension": ".py",
   "mimetype": "text/x-python",
   "name": "python",
   "nbconvert_exporter": "python",
   "pygments_lexer": "ipython3",
   "version": "3.12.3"
  }
 },
 "nbformat": 4,
 "nbformat_minor": 5
}
